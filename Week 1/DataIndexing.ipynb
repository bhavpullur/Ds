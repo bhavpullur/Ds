{
 "cells": [
  {
   "cell_type": "code",
   "execution_count": 2,
   "id": "63221176",
   "metadata": {},
   "outputs": [],
   "source": [
    "import pandas as pd"
   ]
  },
  {
   "cell_type": "code",
   "execution_count": 3,
   "id": "e02e9f81",
   "metadata": {},
   "outputs": [
    {
     "data": {
      "text/html": [
       "<div>\n",
       "<style scoped>\n",
       "    .dataframe tbody tr th:only-of-type {\n",
       "        vertical-align: middle;\n",
       "    }\n",
       "\n",
       "    .dataframe tbody tr th {\n",
       "        vertical-align: top;\n",
       "    }\n",
       "\n",
       "    .dataframe thead th {\n",
       "        text-align: right;\n",
       "    }\n",
       "</style>\n",
       "<table border=\"1\" class=\"dataframe\">\n",
       "  <thead>\n",
       "    <tr style=\"text-align: right;\">\n",
       "      <th></th>\n",
       "      <th>Unnamed: 0</th>\n",
       "      <th>A</th>\n",
       "      <th>B</th>\n",
       "      <th>C</th>\n",
       "      <th>D</th>\n",
       "    </tr>\n",
       "  </thead>\n",
       "  <tbody>\n",
       "    <tr>\n",
       "      <th>0</th>\n",
       "      <td>0</td>\n",
       "      <td>0.374540</td>\n",
       "      <td>63</td>\n",
       "      <td>Z</td>\n",
       "      <td>-0.124132</td>\n",
       "    </tr>\n",
       "    <tr>\n",
       "      <th>1</th>\n",
       "      <td>1</td>\n",
       "      <td>0.950714</td>\n",
       "      <td>96</td>\n",
       "      <td>Z</td>\n",
       "      <td>0.740341</td>\n",
       "    </tr>\n",
       "    <tr>\n",
       "      <th>2</th>\n",
       "      <td>2</td>\n",
       "      <td>0.731994</td>\n",
       "      <td>52</td>\n",
       "      <td>Z</td>\n",
       "      <td>-0.452462</td>\n",
       "    </tr>\n",
       "    <tr>\n",
       "      <th>3</th>\n",
       "      <td>3</td>\n",
       "      <td>0.598658</td>\n",
       "      <td>96</td>\n",
       "      <td>Y</td>\n",
       "      <td>0.777050</td>\n",
       "    </tr>\n",
       "    <tr>\n",
       "      <th>4</th>\n",
       "      <td>4</td>\n",
       "      <td>0.156019</td>\n",
       "      <td>4</td>\n",
       "      <td>Z</td>\n",
       "      <td>1.045571</td>\n",
       "    </tr>\n",
       "    <tr>\n",
       "      <th>...</th>\n",
       "      <td>...</td>\n",
       "      <td>...</td>\n",
       "      <td>...</td>\n",
       "      <td>...</td>\n",
       "      <td>...</td>\n",
       "    </tr>\n",
       "    <tr>\n",
       "      <th>95</th>\n",
       "      <td>95</td>\n",
       "      <td>0.493796</td>\n",
       "      <td>73</td>\n",
       "      <td>X</td>\n",
       "      <td>2.111318</td>\n",
       "    </tr>\n",
       "    <tr>\n",
       "      <th>96</th>\n",
       "      <td>96</td>\n",
       "      <td>0.522733</td>\n",
       "      <td>59</td>\n",
       "      <td>Y</td>\n",
       "      <td>0.686849</td>\n",
       "    </tr>\n",
       "    <tr>\n",
       "      <th>97</th>\n",
       "      <td>97</td>\n",
       "      <td>0.427541</td>\n",
       "      <td>70</td>\n",
       "      <td>Z</td>\n",
       "      <td>0.070972</td>\n",
       "    </tr>\n",
       "    <tr>\n",
       "      <th>98</th>\n",
       "      <td>98</td>\n",
       "      <td>0.025419</td>\n",
       "      <td>80</td>\n",
       "      <td>X</td>\n",
       "      <td>0.439327</td>\n",
       "    </tr>\n",
       "    <tr>\n",
       "      <th>99</th>\n",
       "      <td>99</td>\n",
       "      <td>0.107891</td>\n",
       "      <td>93</td>\n",
       "      <td>X</td>\n",
       "      <td>-0.108498</td>\n",
       "    </tr>\n",
       "  </tbody>\n",
       "</table>\n",
       "<p>100 rows × 5 columns</p>\n",
       "</div>"
      ],
      "text/plain": [
       "    Unnamed: 0         A   B  C         D\n",
       "0            0  0.374540  63  Z -0.124132\n",
       "1            1  0.950714  96  Z  0.740341\n",
       "2            2  0.731994  52  Z -0.452462\n",
       "3            3  0.598658  96  Y  0.777050\n",
       "4            4  0.156019   4  Z  1.045571\n",
       "..         ...       ...  .. ..       ...\n",
       "95          95  0.493796  73  X  2.111318\n",
       "96          96  0.522733  59  Y  0.686849\n",
       "97          97  0.427541  70  Z  0.070972\n",
       "98          98  0.025419  80  X  0.439327\n",
       "99          99  0.107891  93  X -0.108498\n",
       "\n",
       "[100 rows x 5 columns]"
      ]
     },
     "execution_count": 3,
     "metadata": {},
     "output_type": "execute_result"
    }
   ],
   "source": [
    "df= pd.read_csv('Slicing.csv')\n",
    "df\n"
   ]
  },
  {
   "cell_type": "code",
   "execution_count": 4,
   "id": "972f406e",
   "metadata": {},
   "outputs": [
    {
     "data": {
      "text/html": [
       "<div>\n",
       "<style scoped>\n",
       "    .dataframe tbody tr th:only-of-type {\n",
       "        vertical-align: middle;\n",
       "    }\n",
       "\n",
       "    .dataframe tbody tr th {\n",
       "        vertical-align: top;\n",
       "    }\n",
       "\n",
       "    .dataframe thead th {\n",
       "        text-align: right;\n",
       "    }\n",
       "</style>\n",
       "<table border=\"1\" class=\"dataframe\">\n",
       "  <thead>\n",
       "    <tr style=\"text-align: right;\">\n",
       "      <th></th>\n",
       "      <th>Unnamed: 0</th>\n",
       "      <th>A</th>\n",
       "      <th>B</th>\n",
       "      <th>C</th>\n",
       "      <th>D</th>\n",
       "    </tr>\n",
       "  </thead>\n",
       "  <tbody>\n",
       "    <tr>\n",
       "      <th>0</th>\n",
       "      <td>0</td>\n",
       "      <td>0.374540</td>\n",
       "      <td>63</td>\n",
       "      <td>Z</td>\n",
       "      <td>-0.124132</td>\n",
       "    </tr>\n",
       "    <tr>\n",
       "      <th>1</th>\n",
       "      <td>1</td>\n",
       "      <td>0.950714</td>\n",
       "      <td>96</td>\n",
       "      <td>Z</td>\n",
       "      <td>0.740341</td>\n",
       "    </tr>\n",
       "    <tr>\n",
       "      <th>2</th>\n",
       "      <td>2</td>\n",
       "      <td>0.731994</td>\n",
       "      <td>52</td>\n",
       "      <td>Z</td>\n",
       "      <td>-0.452462</td>\n",
       "    </tr>\n",
       "    <tr>\n",
       "      <th>3</th>\n",
       "      <td>3</td>\n",
       "      <td>0.598658</td>\n",
       "      <td>96</td>\n",
       "      <td>Y</td>\n",
       "      <td>0.777050</td>\n",
       "    </tr>\n",
       "    <tr>\n",
       "      <th>4</th>\n",
       "      <td>4</td>\n",
       "      <td>0.156019</td>\n",
       "      <td>4</td>\n",
       "      <td>Z</td>\n",
       "      <td>1.045571</td>\n",
       "    </tr>\n",
       "  </tbody>\n",
       "</table>\n",
       "</div>"
      ],
      "text/plain": [
       "   Unnamed: 0         A   B  C         D\n",
       "0           0  0.374540  63  Z -0.124132\n",
       "1           1  0.950714  96  Z  0.740341\n",
       "2           2  0.731994  52  Z -0.452462\n",
       "3           3  0.598658  96  Y  0.777050\n",
       "4           4  0.156019   4  Z  1.045571"
      ]
     },
     "execution_count": 4,
     "metadata": {},
     "output_type": "execute_result"
    }
   ],
   "source": [
    "#the first five rows of the dataset\n",
    "df.head()"
   ]
  },
  {
   "cell_type": "code",
   "execution_count": 6,
   "id": "c2cc9c60",
   "metadata": {},
   "outputs": [
    {
     "data": {
      "text/html": [
       "<div>\n",
       "<style scoped>\n",
       "    .dataframe tbody tr th:only-of-type {\n",
       "        vertical-align: middle;\n",
       "    }\n",
       "\n",
       "    .dataframe tbody tr th {\n",
       "        vertical-align: top;\n",
       "    }\n",
       "\n",
       "    .dataframe thead th {\n",
       "        text-align: right;\n",
       "    }\n",
       "</style>\n",
       "<table border=\"1\" class=\"dataframe\">\n",
       "  <thead>\n",
       "    <tr style=\"text-align: right;\">\n",
       "      <th></th>\n",
       "      <th>Unnamed: 0</th>\n",
       "      <th>A</th>\n",
       "      <th>B</th>\n",
       "      <th>C</th>\n",
       "      <th>D</th>\n",
       "    </tr>\n",
       "  </thead>\n",
       "  <tbody>\n",
       "    <tr>\n",
       "      <th>95</th>\n",
       "      <td>95</td>\n",
       "      <td>0.493796</td>\n",
       "      <td>73</td>\n",
       "      <td>X</td>\n",
       "      <td>2.111318</td>\n",
       "    </tr>\n",
       "    <tr>\n",
       "      <th>96</th>\n",
       "      <td>96</td>\n",
       "      <td>0.522733</td>\n",
       "      <td>59</td>\n",
       "      <td>Y</td>\n",
       "      <td>0.686849</td>\n",
       "    </tr>\n",
       "    <tr>\n",
       "      <th>97</th>\n",
       "      <td>97</td>\n",
       "      <td>0.427541</td>\n",
       "      <td>70</td>\n",
       "      <td>Z</td>\n",
       "      <td>0.070972</td>\n",
       "    </tr>\n",
       "    <tr>\n",
       "      <th>98</th>\n",
       "      <td>98</td>\n",
       "      <td>0.025419</td>\n",
       "      <td>80</td>\n",
       "      <td>X</td>\n",
       "      <td>0.439327</td>\n",
       "    </tr>\n",
       "    <tr>\n",
       "      <th>99</th>\n",
       "      <td>99</td>\n",
       "      <td>0.107891</td>\n",
       "      <td>93</td>\n",
       "      <td>X</td>\n",
       "      <td>-0.108498</td>\n",
       "    </tr>\n",
       "  </tbody>\n",
       "</table>\n",
       "</div>"
      ],
      "text/plain": [
       "    Unnamed: 0         A   B  C         D\n",
       "95          95  0.493796  73  X  2.111318\n",
       "96          96  0.522733  59  Y  0.686849\n",
       "97          97  0.427541  70  Z  0.070972\n",
       "98          98  0.025419  80  X  0.439327\n",
       "99          99  0.107891  93  X -0.108498"
      ]
     },
     "execution_count": 6,
     "metadata": {},
     "output_type": "execute_result"
    }
   ],
   "source": [
    "#the last five rows of the dataset\n",
    "df.tail()"
   ]
  },
  {
   "cell_type": "code",
   "execution_count": 10,
   "id": "cbe2aa5f",
   "metadata": {},
   "outputs": [
    {
     "data": {
      "text/plain": [
       "(100, 5)"
      ]
     },
     "execution_count": 10,
     "metadata": {},
     "output_type": "execute_result"
    }
   ],
   "source": [
    "#rows and columns are there in the dataset\n",
    "df.shape"
   ]
  },
  {
   "cell_type": "code",
   "execution_count": 12,
   "id": "1000742c",
   "metadata": {},
   "outputs": [
    {
     "data": {
      "text/plain": [
       "Unnamed: 0      int64\n",
       "A             float64\n",
       "B               int64\n",
       "C              object\n",
       "D             float64\n",
       "dtype: object"
      ]
     },
     "execution_count": 12,
     "metadata": {},
     "output_type": "execute_result"
    }
   ],
   "source": [
    "# data types of each column\n",
    "df.dtypes"
   ]
  },
  {
   "cell_type": "code",
   "execution_count": 14,
   "id": "3b302511",
   "metadata": {},
   "outputs": [
    {
     "data": {
      "text/plain": [
       "0.9868869366005172"
      ]
     },
     "execution_count": 14,
     "metadata": {},
     "output_type": "execute_result"
    }
   ],
   "source": [
    "# maximum value in column 'A'\n",
    "df['A'].max()"
   ]
  },
  {
   "cell_type": "code",
   "execution_count": 22,
   "id": "eacdd80c",
   "metadata": {},
   "outputs": [
    {
     "name": "stdout",
     "output_type": "stream",
     "text": [
      "30\n",
      "30\n"
     ]
    }
   ],
   "source": [
    "#How many rows have 'Y' in column 'C'?\n",
    "Count='Y'\n",
    "using_Shape=df[df['C']==Count].shape[0]\n",
    "print(using_Shape)\n",
    "count=df[df['C']==Count]['C'].count()\n",
    "print(count)"
   ]
  },
  {
   "cell_type": "code",
   "execution_count": 23,
   "id": "cdfbfbfe",
   "metadata": {},
   "outputs": [
    {
     "name": "stdout",
     "output_type": "stream",
     "text": [
      "    Unnamed: 0         A   B  C         D\n",
      "0            0  0.374540  63  Z -0.124132\n",
      "1            1  0.950714  96  Z  0.740341\n",
      "2            2  0.731994  52  Z -0.452462\n",
      "3            3  0.598658  96  Y  0.777050\n",
      "5            5  0.155995  94  Z -0.342142\n",
      "13          13  0.212339  71  Z -0.808937\n",
      "14          14  0.181825  59  X  1.057424\n",
      "15          15  0.183405  86  X  0.051361\n",
      "17          17  0.524756  66  Z  1.066199\n",
      "20          20  0.611853  62  Y  0.905122\n",
      "21          21  0.139494  57  Z -0.603904\n",
      "26          26  0.199674  84  Y  1.437356\n",
      "28          28  0.592415  62  Y  1.330881\n",
      "29          29  0.046450  75  X  0.988203\n",
      "30          30  0.607545  92  X  0.232296\n",
      "31          31  0.170524  89  Z  0.176181\n",
      "32          32  0.065052  62  Z -1.152565\n",
      "33          33  0.948886  97  X -1.500768\n",
      "36          36  0.304614  62  Z -0.039636\n",
      "37          37  0.097672  77  Z -0.534663\n",
      "39          39  0.440152  70  X  0.357305\n",
      "40          40  0.122038  72  Z -0.414532\n",
      "43          43  0.909320  62  Y -0.334817\n",
      "45          45  0.662522  97  Y  0.128551\n",
      "46          46  0.311711  51  X  0.549576\n",
      "49          49  0.184854  79  X  1.843414\n",
      "50          50  0.969585  59  Y  1.363435\n",
      "52          52  0.939499  96  Y  0.015143\n",
      "53          53  0.894827  88  Y  0.442074\n",
      "54          54  0.597900  52  Y  1.048020\n",
      "55          55  0.921874  62  Z -0.628570\n",
      "56          56  0.088493  58  X -0.444499\n",
      "57          57  0.195983  52  X -1.669132\n",
      "62          62  0.828738  56  Z  0.317767\n",
      "63          63  0.356753  81  Z -1.612227\n",
      "64          64  0.280935  59  X  0.945382\n",
      "67          67  0.802197  92  Z  1.651351\n",
      "68          68  0.074551  54  Y -1.326832\n",
      "69          69  0.986887  87  Z  1.843716\n",
      "70          70  0.772245  96  Y -0.730741\n",
      "71          71  0.198716  97  Y -1.279920\n",
      "75          75  0.729007  53  X -0.932592\n",
      "77          77  0.074045  90  Y -0.105119\n",
      "79          79  0.115869  70  Z -1.300193\n",
      "81          81  0.623298  68  X  1.323264\n",
      "82          82  0.330898  55  Y -0.128412\n",
      "83          83  0.063558  75  X -0.465665\n",
      "84          84  0.310982  56  Z  0.058509\n",
      "88          88  0.887213  69  Z -0.202458\n",
      "89          89  0.472215  98  Z  0.060897\n",
      "90          90  0.119594  70  X  0.647163\n",
      "91          91  0.713245  86  X  0.126095\n",
      "94          94  0.770967  97  Y -0.615134\n",
      "95          95  0.493796  73  X  2.111318\n",
      "96          96  0.522733  59  Y  0.686849\n",
      "97          97  0.427541  70  Z  0.070972\n",
      "98          98  0.025419  80  X  0.439327\n",
      "99          99  0.107891  93  X -0.108498\n"
     ]
    }
   ],
   "source": [
    "#Extract rows where column 'B' is greater than 50\n",
    "condition=df[df['B']>50]\n",
    "print(condition)"
   ]
  },
  {
   "cell_type": "code",
   "execution_count": 25,
   "id": "a09bb1b2",
   "metadata": {},
   "outputs": [
    {
     "name": "stdout",
     "output_type": "stream",
     "text": [
      "    Unnamed: 0         A   B  C         D\n",
      "4            4  0.156019   4  Z  1.045571\n",
      "10          10  0.020584  36  Z  0.630075\n",
      "14          14  0.181825  59  X  1.057424\n",
      "15          15  0.183405  86  X  0.051361\n",
      "16          16  0.304242  28  Y  0.872447\n",
      "19          19  0.291229  45  Y  1.382005\n",
      "22          22  0.292145   6  Z  0.304449\n",
      "23          23  0.366362  28  Y  0.257207\n",
      "24          24  0.456070  28  X  0.023932\n",
      "26          26  0.199674  84  Y  1.437356\n",
      "29          29  0.046450  75  X  0.988203\n",
      "31          31  0.170524  89  Z  0.176181\n",
      "39          39  0.440152  70  X  0.357305\n",
      "41          41  0.495177  27  X  0.080199\n",
      "44          44  0.258780  37  Z  1.560380\n",
      "46          46  0.311711  51  X  0.549576\n",
      "49          49  0.184854  79  X  1.843414\n",
      "59          59  0.325330  39  X  1.661302\n",
      "64          64  0.280935  59  X  0.945382\n",
      "66          66  0.140924   2  Z  0.377296\n",
      "84          84  0.310982  56  Z  0.058509\n",
      "85          85  0.325183  17  X  2.347997\n",
      "89          89  0.472215  98  Z  0.060897\n",
      "90          90  0.119594  70  X  0.647163\n",
      "95          95  0.493796  73  X  2.111318\n",
      "97          97  0.427541  70  Z  0.070972\n",
      "98          98  0.025419  80  X  0.439327\n"
     ]
    }
   ],
   "source": [
    "#Retrieve rows where column 'A' is less than 0.5 and column 'D' is greater than 0.\n",
    "rows=df[(df['A']<0.5) & (df['D']>0)]\n",
    "print(rows)"
   ]
  },
  {
   "cell_type": "code",
   "execution_count": 27,
   "id": "204af560",
   "metadata": {},
   "outputs": [
    {
     "data": {
      "text/plain": [
       "52.3"
      ]
     },
     "execution_count": 27,
     "metadata": {},
     "output_type": "execute_result"
    }
   ],
   "source": [
    "#mean value of column 'B'?\n",
    "mean=df['B'].mean()\n",
    "mean"
   ]
  },
  {
   "cell_type": "code",
   "execution_count": 28,
   "id": "026cf834",
   "metadata": {},
   "outputs": [
    {
     "data": {
      "text/plain": [
       "1.0087250549090303"
      ]
     },
     "execution_count": 28,
     "metadata": {},
     "output_type": "execute_result"
    }
   ],
   "source": [
    "#standard deviation of column 'D'?\n",
    "deviation=df['D'].std()\n",
    "deviation\n"
   ]
  },
  {
   "cell_type": "code",
   "execution_count": 31,
   "id": "2d1047fd",
   "metadata": {},
   "outputs": [
    {
     "data": {
      "text/plain": [
       "0.46414245468949256"
      ]
     },
     "execution_count": 31,
     "metadata": {},
     "output_type": "execute_result"
    }
   ],
   "source": [
    "##median of column 'A'.\n",
    "median1=df['A'].median()\n",
    "median1"
   ]
  },
  {
   "cell_type": "code",
   "execution_count": 32,
   "id": "36fbaf05",
   "metadata": {},
   "outputs": [
    {
     "data": {
      "text/html": [
       "<div>\n",
       "<style scoped>\n",
       "    .dataframe tbody tr th:only-of-type {\n",
       "        vertical-align: middle;\n",
       "    }\n",
       "\n",
       "    .dataframe tbody tr th {\n",
       "        vertical-align: top;\n",
       "    }\n",
       "\n",
       "    .dataframe thead th {\n",
       "        text-align: right;\n",
       "    }\n",
       "</style>\n",
       "<table border=\"1\" class=\"dataframe\">\n",
       "  <thead>\n",
       "    <tr style=\"text-align: right;\">\n",
       "      <th></th>\n",
       "      <th>Unnamed: 0</th>\n",
       "      <th>A</th>\n",
       "      <th>B</th>\n",
       "      <th>C</th>\n",
       "      <th>D</th>\n",
       "      <th>E</th>\n",
       "    </tr>\n",
       "  </thead>\n",
       "  <tbody>\n",
       "    <tr>\n",
       "      <th>0</th>\n",
       "      <td>0</td>\n",
       "      <td>0.374540</td>\n",
       "      <td>63</td>\n",
       "      <td>Z</td>\n",
       "      <td>-0.124132</td>\n",
       "      <td>-0.046493</td>\n",
       "    </tr>\n",
       "    <tr>\n",
       "      <th>1</th>\n",
       "      <td>1</td>\n",
       "      <td>0.950714</td>\n",
       "      <td>96</td>\n",
       "      <td>Z</td>\n",
       "      <td>0.740341</td>\n",
       "      <td>0.703853</td>\n",
       "    </tr>\n",
       "    <tr>\n",
       "      <th>2</th>\n",
       "      <td>2</td>\n",
       "      <td>0.731994</td>\n",
       "      <td>52</td>\n",
       "      <td>Z</td>\n",
       "      <td>-0.452462</td>\n",
       "      <td>-0.331200</td>\n",
       "    </tr>\n",
       "    <tr>\n",
       "      <th>3</th>\n",
       "      <td>3</td>\n",
       "      <td>0.598658</td>\n",
       "      <td>96</td>\n",
       "      <td>Y</td>\n",
       "      <td>0.777050</td>\n",
       "      <td>0.465187</td>\n",
       "    </tr>\n",
       "    <tr>\n",
       "      <th>4</th>\n",
       "      <td>4</td>\n",
       "      <td>0.156019</td>\n",
       "      <td>4</td>\n",
       "      <td>Z</td>\n",
       "      <td>1.045571</td>\n",
       "      <td>0.163129</td>\n",
       "    </tr>\n",
       "    <tr>\n",
       "      <th>...</th>\n",
       "      <td>...</td>\n",
       "      <td>...</td>\n",
       "      <td>...</td>\n",
       "      <td>...</td>\n",
       "      <td>...</td>\n",
       "      <td>...</td>\n",
       "    </tr>\n",
       "    <tr>\n",
       "      <th>95</th>\n",
       "      <td>95</td>\n",
       "      <td>0.493796</td>\n",
       "      <td>73</td>\n",
       "      <td>X</td>\n",
       "      <td>2.111318</td>\n",
       "      <td>1.042559</td>\n",
       "    </tr>\n",
       "    <tr>\n",
       "      <th>96</th>\n",
       "      <td>96</td>\n",
       "      <td>0.522733</td>\n",
       "      <td>59</td>\n",
       "      <td>Y</td>\n",
       "      <td>0.686849</td>\n",
       "      <td>0.359038</td>\n",
       "    </tr>\n",
       "    <tr>\n",
       "      <th>97</th>\n",
       "      <td>97</td>\n",
       "      <td>0.427541</td>\n",
       "      <td>70</td>\n",
       "      <td>Z</td>\n",
       "      <td>0.070972</td>\n",
       "      <td>0.030344</td>\n",
       "    </tr>\n",
       "    <tr>\n",
       "      <th>98</th>\n",
       "      <td>98</td>\n",
       "      <td>0.025419</td>\n",
       "      <td>80</td>\n",
       "      <td>X</td>\n",
       "      <td>0.439327</td>\n",
       "      <td>0.011167</td>\n",
       "    </tr>\n",
       "    <tr>\n",
       "      <th>99</th>\n",
       "      <td>99</td>\n",
       "      <td>0.107891</td>\n",
       "      <td>93</td>\n",
       "      <td>X</td>\n",
       "      <td>-0.108498</td>\n",
       "      <td>-0.011706</td>\n",
       "    </tr>\n",
       "  </tbody>\n",
       "</table>\n",
       "<p>100 rows × 6 columns</p>\n",
       "</div>"
      ],
      "text/plain": [
       "    Unnamed: 0         A   B  C         D         E\n",
       "0            0  0.374540  63  Z -0.124132 -0.046493\n",
       "1            1  0.950714  96  Z  0.740341  0.703853\n",
       "2            2  0.731994  52  Z -0.452462 -0.331200\n",
       "3            3  0.598658  96  Y  0.777050  0.465187\n",
       "4            4  0.156019   4  Z  1.045571  0.163129\n",
       "..         ...       ...  .. ..       ...       ...\n",
       "95          95  0.493796  73  X  2.111318  1.042559\n",
       "96          96  0.522733  59  Y  0.686849  0.359038\n",
       "97          97  0.427541  70  Z  0.070972  0.030344\n",
       "98          98  0.025419  80  X  0.439327  0.011167\n",
       "99          99  0.107891  93  X -0.108498 -0.011706\n",
       "\n",
       "[100 rows x 6 columns]"
      ]
     },
     "execution_count": 32,
     "metadata": {},
     "output_type": "execute_result"
    }
   ],
   "source": [
    "#new column 'E' which is the product of columns 'A' and 'D'\n",
    "df['E']=df['A']*df['D']\n",
    "df"
   ]
  },
  {
   "cell_type": "code",
   "execution_count": 39,
   "id": "badc65d8",
   "metadata": {},
   "outputs": [
    {
     "data": {
      "text/plain": [
       "C\n",
       "X    49.583333\n",
       "Y    51.033333\n",
       "Z    56.294118\n",
       "Name: B, dtype: float64"
      ]
     },
     "execution_count": 39,
     "metadata": {},
     "output_type": "execute_result"
    }
   ],
   "source": [
    "#Group the data by column 'C' and find the average value of column 'B' for each group.\n",
    "grouped_data = df.groupby('C')['B'].mean()\n",
    "grouped_data"
   ]
  },
  {
   "cell_type": "code",
   "execution_count": 44,
   "id": "56ae16c9",
   "metadata": {},
   "outputs": [
    {
     "data": {
      "text/plain": [
       "49.583333333333336"
      ]
     },
     "execution_count": 44,
     "metadata": {},
     "output_type": "execute_result"
    }
   ],
   "source": [
    "df[df['C']=='X']['B'].mean()"
   ]
  },
  {
   "cell_type": "code",
   "execution_count": 45,
   "id": "5050e634",
   "metadata": {},
   "outputs": [
    {
     "data": {
      "text/plain": [
       "51.03333333333333"
      ]
     },
     "execution_count": 45,
     "metadata": {},
     "output_type": "execute_result"
    }
   ],
   "source": [
    "df[df['C']=='Y']['B'].mean()"
   ]
  },
  {
   "cell_type": "code",
   "execution_count": 46,
   "id": "0f4153bd",
   "metadata": {},
   "outputs": [
    {
     "data": {
      "text/plain": [
       "56.294117647058826"
      ]
     },
     "execution_count": 46,
     "metadata": {},
     "output_type": "execute_result"
    }
   ],
   "source": [
    "df[df['C']=='Z']['B'].mean()"
   ]
  },
  {
   "cell_type": "code",
   "execution_count": 52,
   "id": "eae2dd5f",
   "metadata": {},
   "outputs": [
    {
     "data": {
      "text/html": [
       "<div>\n",
       "<style scoped>\n",
       "    .dataframe tbody tr th:only-of-type {\n",
       "        vertical-align: middle;\n",
       "    }\n",
       "\n",
       "    .dataframe tbody tr th {\n",
       "        vertical-align: top;\n",
       "    }\n",
       "\n",
       "    .dataframe thead th {\n",
       "        text-align: right;\n",
       "    }\n",
       "</style>\n",
       "<table border=\"1\" class=\"dataframe\">\n",
       "  <thead>\n",
       "    <tr style=\"text-align: right;\">\n",
       "      <th></th>\n",
       "      <th>Unnamed: 0</th>\n",
       "      <th>A</th>\n",
       "      <th>B</th>\n",
       "      <th>C</th>\n",
       "      <th>D</th>\n",
       "      <th>E</th>\n",
       "    </tr>\n",
       "  </thead>\n",
       "  <tbody>\n",
       "    <tr>\n",
       "      <th>69</th>\n",
       "      <td>69</td>\n",
       "      <td>0.986887</td>\n",
       "      <td>87</td>\n",
       "      <td>Z</td>\n",
       "      <td>1.843716</td>\n",
       "      <td>1.819539</td>\n",
       "    </tr>\n",
       "    <tr>\n",
       "      <th>11</th>\n",
       "      <td>11</td>\n",
       "      <td>0.969910</td>\n",
       "      <td>13</td>\n",
       "      <td>Y</td>\n",
       "      <td>1.762937</td>\n",
       "      <td>1.709890</td>\n",
       "    </tr>\n",
       "    <tr>\n",
       "      <th>50</th>\n",
       "      <td>50</td>\n",
       "      <td>0.969585</td>\n",
       "      <td>59</td>\n",
       "      <td>Y</td>\n",
       "      <td>1.363435</td>\n",
       "      <td>1.321966</td>\n",
       "    </tr>\n",
       "    <tr>\n",
       "      <th>34</th>\n",
       "      <td>34</td>\n",
       "      <td>0.965632</td>\n",
       "      <td>1</td>\n",
       "      <td>X</td>\n",
       "      <td>0.165023</td>\n",
       "      <td>0.159351</td>\n",
       "    </tr>\n",
       "    <tr>\n",
       "      <th>1</th>\n",
       "      <td>1</td>\n",
       "      <td>0.950714</td>\n",
       "      <td>96</td>\n",
       "      <td>Z</td>\n",
       "      <td>0.740341</td>\n",
       "      <td>0.703853</td>\n",
       "    </tr>\n",
       "    <tr>\n",
       "      <th>...</th>\n",
       "      <td>...</td>\n",
       "      <td>...</td>\n",
       "      <td>...</td>\n",
       "      <td>...</td>\n",
       "      <td>...</td>\n",
       "      <td>...</td>\n",
       "    </tr>\n",
       "    <tr>\n",
       "      <th>58</th>\n",
       "      <td>58</td>\n",
       "      <td>0.045227</td>\n",
       "      <td>12</td>\n",
       "      <td>X</td>\n",
       "      <td>-0.771819</td>\n",
       "      <td>-0.034907</td>\n",
       "    </tr>\n",
       "    <tr>\n",
       "      <th>42</th>\n",
       "      <td>42</td>\n",
       "      <td>0.034389</td>\n",
       "      <td>9</td>\n",
       "      <td>Y</td>\n",
       "      <td>-0.893120</td>\n",
       "      <td>-0.030713</td>\n",
       "    </tr>\n",
       "    <tr>\n",
       "      <th>98</th>\n",
       "      <td>98</td>\n",
       "      <td>0.025419</td>\n",
       "      <td>80</td>\n",
       "      <td>X</td>\n",
       "      <td>0.439327</td>\n",
       "      <td>0.011167</td>\n",
       "    </tr>\n",
       "    <tr>\n",
       "      <th>10</th>\n",
       "      <td>10</td>\n",
       "      <td>0.020584</td>\n",
       "      <td>36</td>\n",
       "      <td>Z</td>\n",
       "      <td>0.630075</td>\n",
       "      <td>0.012970</td>\n",
       "    </tr>\n",
       "    <tr>\n",
       "      <th>72</th>\n",
       "      <td>72</td>\n",
       "      <td>0.005522</td>\n",
       "      <td>1</td>\n",
       "      <td>Y</td>\n",
       "      <td>-0.237392</td>\n",
       "      <td>-0.001311</td>\n",
       "    </tr>\n",
       "  </tbody>\n",
       "</table>\n",
       "<p>100 rows × 6 columns</p>\n",
       "</div>"
      ],
      "text/plain": [
       "    Unnamed: 0         A   B  C         D         E\n",
       "69          69  0.986887  87  Z  1.843716  1.819539\n",
       "11          11  0.969910  13  Y  1.762937  1.709890\n",
       "50          50  0.969585  59  Y  1.363435  1.321966\n",
       "34          34  0.965632   1  X  0.165023  0.159351\n",
       "1            1  0.950714  96  Z  0.740341  0.703853\n",
       "..         ...       ...  .. ..       ...       ...\n",
       "58          58  0.045227  12  X -0.771819 -0.034907\n",
       "42          42  0.034389   9  Y -0.893120 -0.030713\n",
       "98          98  0.025419  80  X  0.439327  0.011167\n",
       "10          10  0.020584  36  Z  0.630075  0.012970\n",
       "72          72  0.005522   1  Y -0.237392 -0.001311\n",
       "\n",
       "[100 rows x 6 columns]"
      ]
     },
     "execution_count": 52,
     "metadata": {},
     "output_type": "execute_result"
    }
   ],
   "source": [
    "#Sort the DataFrame based on column 'A' in descending order.\n",
    "sorted= df.sort_values(by='A' ,ascending=False)\n",
    "sorted"
   ]
  },
  {
   "cell_type": "code",
   "execution_count": 53,
   "id": "bd28e46c",
   "metadata": {},
   "outputs": [
    {
     "name": "stdout",
     "output_type": "stream",
     "text": [
      "    Unnamed: 0         A   B         C         D         E\n",
      "0            0  0.374540  63         Z -0.124132 -0.046493\n",
      "1            1  0.950714  96         Z  0.740341  0.703853\n",
      "2            2  0.731994  52         Z -0.452462 -0.331200\n",
      "3            3  0.598658  96         Y  0.777050  0.465187\n",
      "4            4  0.156019   4         Z  1.045571  0.163129\n",
      "..         ...       ...  ..       ...       ...       ...\n",
      "95          95  0.493796  73  NewValue  2.111318  1.042559\n",
      "96          96  0.522733  59         Y  0.686849  0.359038\n",
      "97          97  0.427541  70         Z  0.070972  0.030344\n",
      "98          98  0.025419  80  NewValue  0.439327  0.011167\n",
      "99          99  0.107891  93  NewValue -0.108498 -0.011706\n",
      "\n",
      "[100 rows x 6 columns]\n"
     ]
    }
   ],
   "source": [
    "df['C'] = df['C'].replace('X', 'NewValue')\n",
    "print(df)"
   ]
  },
  {
   "cell_type": "code",
   "execution_count": 58,
   "id": "70786588",
   "metadata": {},
   "outputs": [
    {
     "data": {
      "text/html": [
       "<div>\n",
       "<style scoped>\n",
       "    .dataframe tbody tr th:only-of-type {\n",
       "        vertical-align: middle;\n",
       "    }\n",
       "\n",
       "    .dataframe tbody tr th {\n",
       "        vertical-align: top;\n",
       "    }\n",
       "\n",
       "    .dataframe thead th {\n",
       "        text-align: right;\n",
       "    }\n",
       "</style>\n",
       "<table border=\"1\" class=\"dataframe\">\n",
       "  <thead>\n",
       "    <tr style=\"text-align: right;\">\n",
       "      <th></th>\n",
       "      <th>Unnamed: 0</th>\n",
       "      <th>A</th>\n",
       "      <th>B</th>\n",
       "      <th>C</th>\n",
       "      <th>D</th>\n",
       "      <th>E</th>\n",
       "    </tr>\n",
       "  </thead>\n",
       "  <tbody>\n",
       "    <tr>\n",
       "      <th>0</th>\n",
       "      <td>0</td>\n",
       "      <td>0.374540</td>\n",
       "      <td>0</td>\n",
       "      <td>Z</td>\n",
       "      <td>-0.124132</td>\n",
       "      <td>-0.046493</td>\n",
       "    </tr>\n",
       "    <tr>\n",
       "      <th>1</th>\n",
       "      <td>1</td>\n",
       "      <td>0.950714</td>\n",
       "      <td>96</td>\n",
       "      <td>Z</td>\n",
       "      <td>0.740341</td>\n",
       "      <td>0.703853</td>\n",
       "    </tr>\n",
       "    <tr>\n",
       "      <th>2</th>\n",
       "      <td>2</td>\n",
       "      <td>0.731994</td>\n",
       "      <td>0</td>\n",
       "      <td>Z</td>\n",
       "      <td>-0.452462</td>\n",
       "      <td>-0.331200</td>\n",
       "    </tr>\n",
       "    <tr>\n",
       "      <th>3</th>\n",
       "      <td>3</td>\n",
       "      <td>0.598658</td>\n",
       "      <td>96</td>\n",
       "      <td>Y</td>\n",
       "      <td>0.777050</td>\n",
       "      <td>0.465187</td>\n",
       "    </tr>\n",
       "    <tr>\n",
       "      <th>4</th>\n",
       "      <td>4</td>\n",
       "      <td>0.156019</td>\n",
       "      <td>4</td>\n",
       "      <td>Z</td>\n",
       "      <td>1.045571</td>\n",
       "      <td>0.163129</td>\n",
       "    </tr>\n",
       "    <tr>\n",
       "      <th>...</th>\n",
       "      <td>...</td>\n",
       "      <td>...</td>\n",
       "      <td>...</td>\n",
       "      <td>...</td>\n",
       "      <td>...</td>\n",
       "      <td>...</td>\n",
       "    </tr>\n",
       "    <tr>\n",
       "      <th>95</th>\n",
       "      <td>95</td>\n",
       "      <td>0.493796</td>\n",
       "      <td>73</td>\n",
       "      <td>NewValue</td>\n",
       "      <td>2.111318</td>\n",
       "      <td>1.042559</td>\n",
       "    </tr>\n",
       "    <tr>\n",
       "      <th>96</th>\n",
       "      <td>96</td>\n",
       "      <td>0.522733</td>\n",
       "      <td>59</td>\n",
       "      <td>Y</td>\n",
       "      <td>0.686849</td>\n",
       "      <td>0.359038</td>\n",
       "    </tr>\n",
       "    <tr>\n",
       "      <th>97</th>\n",
       "      <td>97</td>\n",
       "      <td>0.427541</td>\n",
       "      <td>70</td>\n",
       "      <td>Z</td>\n",
       "      <td>0.070972</td>\n",
       "      <td>0.030344</td>\n",
       "    </tr>\n",
       "    <tr>\n",
       "      <th>98</th>\n",
       "      <td>98</td>\n",
       "      <td>0.025419</td>\n",
       "      <td>80</td>\n",
       "      <td>NewValue</td>\n",
       "      <td>0.439327</td>\n",
       "      <td>0.011167</td>\n",
       "    </tr>\n",
       "    <tr>\n",
       "      <th>99</th>\n",
       "      <td>99</td>\n",
       "      <td>0.107891</td>\n",
       "      <td>0</td>\n",
       "      <td>NewValue</td>\n",
       "      <td>-0.108498</td>\n",
       "      <td>-0.011706</td>\n",
       "    </tr>\n",
       "  </tbody>\n",
       "</table>\n",
       "<p>100 rows × 6 columns</p>\n",
       "</div>"
      ],
      "text/plain": [
       "    Unnamed: 0         A   B         C         D         E\n",
       "0            0  0.374540   0         Z -0.124132 -0.046493\n",
       "1            1  0.950714  96         Z  0.740341  0.703853\n",
       "2            2  0.731994   0         Z -0.452462 -0.331200\n",
       "3            3  0.598658  96         Y  0.777050  0.465187\n",
       "4            4  0.156019   4         Z  1.045571  0.163129\n",
       "..         ...       ...  ..       ...       ...       ...\n",
       "95          95  0.493796  73  NewValue  2.111318  1.042559\n",
       "96          96  0.522733  59         Y  0.686849  0.359038\n",
       "97          97  0.427541  70         Z  0.070972  0.030344\n",
       "98          98  0.025419  80  NewValue  0.439327  0.011167\n",
       "99          99  0.107891   0  NewValue -0.108498 -0.011706\n",
       "\n",
       "[100 rows x 6 columns]"
      ]
     },
     "execution_count": 58,
     "metadata": {},
     "output_type": "execute_result"
    }
   ],
   "source": [
    "#Change values in column 'B' to 0 where column 'D' is negative.\n",
    "df.loc[df['D'] < 0, 'B'] = 0\n",
    "df"
   ]
  },
  {
   "cell_type": "code",
   "execution_count": null,
   "id": "3e22eb53",
   "metadata": {},
   "outputs": [],
   "source": []
  },
  {
   "cell_type": "code",
   "execution_count": null,
   "id": "ebb3e7a1",
   "metadata": {},
   "outputs": [],
   "source": []
  },
  {
   "cell_type": "code",
   "execution_count": null,
   "id": "acdbf473",
   "metadata": {},
   "outputs": [],
   "source": []
  },
  {
   "cell_type": "code",
   "execution_count": null,
   "id": "2b352d07",
   "metadata": {},
   "outputs": [],
   "source": []
  },
  {
   "cell_type": "code",
   "execution_count": null,
   "id": "cd298887",
   "metadata": {},
   "outputs": [],
   "source": []
  },
  {
   "cell_type": "code",
   "execution_count": null,
   "id": "af9e5c55",
   "metadata": {},
   "outputs": [],
   "source": []
  },
  {
   "cell_type": "code",
   "execution_count": null,
   "id": "ba3069cf",
   "metadata": {},
   "outputs": [],
   "source": []
  },
  {
   "cell_type": "code",
   "execution_count": null,
   "id": "8671e7f1",
   "metadata": {},
   "outputs": [],
   "source": []
  },
  {
   "cell_type": "code",
   "execution_count": null,
   "id": "27cf9c17",
   "metadata": {},
   "outputs": [],
   "source": []
  },
  {
   "cell_type": "code",
   "execution_count": null,
   "id": "90f1a173",
   "metadata": {},
   "outputs": [],
   "source": []
  },
  {
   "cell_type": "code",
   "execution_count": null,
   "id": "8fc17254",
   "metadata": {},
   "outputs": [],
   "source": []
  },
  {
   "cell_type": "code",
   "execution_count": null,
   "id": "02f1b166",
   "metadata": {},
   "outputs": [],
   "source": []
  },
  {
   "cell_type": "code",
   "execution_count": null,
   "id": "d418d73b",
   "metadata": {},
   "outputs": [],
   "source": []
  },
  {
   "cell_type": "code",
   "execution_count": null,
   "id": "b8e3ba20",
   "metadata": {},
   "outputs": [],
   "source": []
  },
  {
   "cell_type": "code",
   "execution_count": null,
   "id": "0bcc824f",
   "metadata": {},
   "outputs": [],
   "source": []
  },
  {
   "cell_type": "code",
   "execution_count": null,
   "id": "ec9db5d7",
   "metadata": {},
   "outputs": [],
   "source": []
  },
  {
   "cell_type": "code",
   "execution_count": null,
   "id": "21ec8bd0",
   "metadata": {},
   "outputs": [],
   "source": []
  },
  {
   "cell_type": "code",
   "execution_count": null,
   "id": "2dfbb147",
   "metadata": {},
   "outputs": [],
   "source": []
  },
  {
   "cell_type": "code",
   "execution_count": null,
   "id": "b2eeb936",
   "metadata": {},
   "outputs": [],
   "source": []
  },
  {
   "cell_type": "code",
   "execution_count": null,
   "id": "ea61c21f",
   "metadata": {},
   "outputs": [],
   "source": []
  },
  {
   "cell_type": "code",
   "execution_count": null,
   "id": "260807fd",
   "metadata": {},
   "outputs": [],
   "source": []
  },
  {
   "cell_type": "code",
   "execution_count": null,
   "id": "57a2677a",
   "metadata": {},
   "outputs": [],
   "source": []
  },
  {
   "cell_type": "code",
   "execution_count": null,
   "id": "a6a7238d",
   "metadata": {},
   "outputs": [],
   "source": []
  },
  {
   "cell_type": "code",
   "execution_count": null,
   "id": "9c79445f",
   "metadata": {},
   "outputs": [],
   "source": []
  },
  {
   "cell_type": "code",
   "execution_count": null,
   "id": "0437d5c8",
   "metadata": {},
   "outputs": [],
   "source": []
  }
 ],
 "metadata": {
  "kernelspec": {
   "display_name": "Python 3 (ipykernel)",
   "language": "python",
   "name": "python3"
  },
  "language_info": {
   "codemirror_mode": {
    "name": "ipython",
    "version": 3
   },
   "file_extension": ".py",
   "mimetype": "text/x-python",
   "name": "python",
   "nbconvert_exporter": "python",
   "pygments_lexer": "ipython3",
   "version": "3.10.13"
  }
 },
 "nbformat": 4,
 "nbformat_minor": 5
}
